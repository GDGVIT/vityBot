{
 "cells": [
  {
   "cell_type": "markdown",
   "metadata": {},
   "source": [
    "# DB check\n",
    "\n",
    "To check if we can store numpy arrays embeddings fast in mongodb"
   ]
  },
  {
   "cell_type": "code",
   "execution_count": 1,
   "metadata": {},
   "outputs": [],
   "source": [
    "'''\n",
    "open up a new mongodb db and then store embedding and retrieve and test\n",
    "'''\n",
    "\n",
    "# need to find if we are losing more on speed\n",
    "# if we make it more modular\n",
    "import numpy as np\n",
    "from motor import MotorClient"
   ]
  },
  {
   "cell_type": "code",
   "execution_count": 2,
   "metadata": {
    "collapsed": true
   },
   "outputs": [],
   "source": [
    "db = MotorClient()['vitybot']"
   ]
  },
  {
   "cell_type": "code",
   "execution_count": 3,
   "metadata": {
    "collapsed": true
   },
   "outputs": [],
   "source": [
    "ques = db['ques']"
   ]
  },
  {
   "cell_type": "code",
   "execution_count": 6,
   "metadata": {},
   "outputs": [],
   "source": [
    "a = np.array([[1,2,3],[1,2,3]])\n",
    "result = db.ques.insert({'q_emb':a})"
   ]
  },
  {
   "cell_type": "code",
   "execution_count": 7,
   "metadata": {},
   "outputs": [
    {
     "name": "stdout",
     "output_type": "stream",
     "text": [
      "<tornado.concurrent.Future object at 0x7efe86c2abd0>\n"
     ]
    }
   ],
   "source": [
    "print result"
   ]
  },
  {
   "cell_type": "code",
   "execution_count": 23,
   "metadata": {
    "collapsed": true
   },
   "outputs": [],
   "source": [
    "result = db.ques.find()\n",
    "import motor"
   ]
  },
  {
   "cell_type": "code",
   "execution_count": 25,
   "metadata": {},
   "outputs": [],
   "source": [
    "from tornado import gen\n",
    "@gen.engine\n",
    "def f():\n",
    "    while result.alive:\n",
    "        doc = yield motor.Op(result.next_object)\n",
    "        if doc:\n",
    "            print 'found doc', doc\n",
    "        else:\n",
    "            print 'not found'\n",
    "    print('done')"
   ]
  },
  {
   "cell_type": "code",
   "execution_count": 28,
   "metadata": {},
   "outputs": [],
   "source": [
    "def nth():\n",
    "    while(yield result.fetch_next):\n",
    "        doc = result.next_object()\n",
    "        print doc"
   ]
  },
  {
   "cell_type": "code",
   "execution_count": 32,
   "metadata": {},
   "outputs": [],
   "source": [
    "from tornado.ioloop import IOLoop"
   ]
  },
  {
   "cell_type": "code",
   "execution_count": 33,
   "metadata": {},
   "outputs": [],
   "source": [
    "@gen.engine\n",
    "def f():\n",
    "    results = yield motor.Op(db.ques.find().to_list())\n",
    "    print results"
   ]
  },
  {
   "cell_type": "code",
   "execution_count": null,
   "metadata": {},
   "outputs": [],
   "source": [
    "# so we need to convert each embedding to a list instead of a numpy array to store\n",
    "# it inside mongodb\n",
    "# now to write a function which performs this search to find the best match\n",
    "# 1. to find embedding for each sentence and to store it along with it \n",
    "# for doing the best match"
   ]
  },
  {
   "cell_type": "code",
   "execution_count": null,
   "metadata": {
    "collapsed": true
   },
   "outputs": [],
   "source": []
  }
 ],
 "metadata": {
  "kernelspec": {
   "display_name": "Python 2",
   "language": "python",
   "name": "python2"
  },
  "language_info": {
   "codemirror_mode": {
    "name": "ipython",
    "version": 2
   },
   "file_extension": ".py",
   "mimetype": "text/x-python",
   "name": "python",
   "nbconvert_exporter": "python",
   "pygments_lexer": "ipython2",
   "version": "2.7.12"
  }
 },
 "nbformat": 4,
 "nbformat_minor": 2
}
