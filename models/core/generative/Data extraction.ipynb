{
 "cells": [
  {
   "cell_type": "markdown",
   "metadata": {},
   "source": [
    "# Notebook for Whatsapp data extraction"
   ]
  },
  {
   "cell_type": "code",
   "execution_count": 33,
   "metadata": {},
   "outputs": [],
   "source": [
    "import re\n",
    "import codecs\n",
    "\n",
    "raw_sents = []\n",
    "with codecs.open('GDGChilling.txt', 'r', 'utf-8') as f:\n",
    "    raw_sents = f.readlines()"
   ]
  },
  {
   "cell_type": "code",
   "execution_count": 34,
   "metadata": {},
   "outputs": [
    {
     "name": "stdout",
     "output_type": "stream",
     "text": [
      "['11/2/15, 10:58 PM - Shiv GDG created group “GDG Chilling”\\n', '11/2/15, 10:58 PM - Mama was added\\n', '1/2/17, 8:21 PM - \\u202a+91 99525 52544\\u202c: Anyone going to vellore tomorrow from chennai airport? Anytime?\\n', '1/2/17, 8:31 PM - \\u202a+91 96191 61119\\u202c: Tomorrow??😱😱\\n', '1/2/17, 8:31 PM - \\u202a+91 99525 52544\\u202c: Haan 😅😅\\n']\n"
     ]
    }
   ],
   "source": [
    "print (raw_sents[:5])"
   ]
  },
  {
   "cell_type": "code",
   "execution_count": 39,
   "metadata": {},
   "outputs": [],
   "source": [
    "new_sents = []\n",
    "for i, sent in enumerate(raw_sents):\n",
    "    result = re.search(r'-\\W(.*):(.*)',sent)\n",
    "    if result:\n",
    "        new_sents.append(result.group(2))"
   ]
  },
  {
   "cell_type": "code",
   "execution_count": 43,
   "metadata": {},
   "outputs": [
    {
     "name": "stdout",
     "output_type": "stream",
     "text": [
      "[' Anyone going to vellore tomorrow from chennai airport? Anytime?', ' Tomorrow??😱😱', ' Haan 😅😅', \" I'll meet you in vellore ✌🏿\", \" I'm coming from Bangalore\", ' Oh damn.', ' <Media omitted>', ' Anyone travelling on 5th around 5pm from Chennai airport.?', ' Thendral or rishin?', ' Both are equally strict.', ' Not thendral', \" Don't take thendral\", ' @919843771996 what do you say? You got an s in thendral?', ' hows lydia?', ' Apparently chill', ' How is electrical and electronics measurements?', ' ??', ' And can we take CAL equivalent for UE??', ' ??', ' Anyone got btech Cse hod number??', \" It's not very tough\", ' Thanks', ' is karthikeyan t very bad?', ' Senthilkumar Sir HOD.vcf (file attached)', ' Thank you', 'P', ' Gave*', ' <Media omitted>', ' IWP', ' Lydia jane or Arunkumar G?', ' Any idea of Mini Project for CSE? ', \" Cse people don't need mini project\", \" It's given in SCOPE school list. Should I drop? 😅\", \" Concurrent and distributed systems is CSE's program elective rite??\", ' Mini project for CSE was still 2012 batch', ' *till', ' Yes', ' N how is naresh Kumar?', ' can cs student take IT subject for UE ?', ' Yep, I took one last sem.', ' Yes u can', ' Just make sure its not an anti requisite for any subjects you guys might already have', ' Meetup today?', ' Ignore😂🙈', ' Okay 👌🏻', ' how is Manju B R ?', ' For Linear?', ' Yes', ' Ravi Shankar speaks highly about this faculty.', \" Sureshkumar N vs Anisha M Lal. Who's better?\", ' Sureshkumar', ' Sureshkumar. Image and vision?', ' Yes', ' Can we take lab only subjects from SITE as UE??', ' Is it 2 credit ??', ' Yes', \" As far as I know u can't\", ' Okk thanks', ' Concurrent and distributed systems has 7 open seats in a2 slot', \" How's Naveen Kumar N?\", ' No idea but leliya', ' No other option 😅', ' How is this possible that one seat is present in theory but all lab seats are full', ' Someone from the morning slot may have taken a morning lab', ' Even though, there are 60 seats for lab and theory each', ' Someone took a waitlist?', ' Confused 🤔', \" Somebody who's failed in one of the components before can register that component alone. It's written in the rules in the first page.\", ' Anyone landing around 12 tomorrow. Chennai airport?', ' Anyone landing around 8 pm today at chennai?', ' Is GER1001, basic German UE and we need to take something else under Foreign Language as UC?', ' Any PDF or link regarding difference between virtual and physical machines?', ' <Media omitted>', ' GER1001 is supposed to be UC, but for some reason it is shown as UE in my curriculum after I finished it', ' 👍🏻', ' Anybody took ethics in TE2 under sriram and know if he took attendance last class??', ' <Media omitted>', ' 😃 congratulation', ' Congrats bro!!', ' Congrats bro', ' Congratulations..!!🎉🎊', ' Congratulations', ' Wow nice.. congrats bro', ' 🙏', ' Congrats bro.', ' Congrats man!', ' congrats', ' 👍🏻👍🏻👍🏻', ' 👌🏻👍🏻', ' <Media omitted>', ' 😂😂', ' 😂😂', ' 😂😂😂', ' 😂😂', ' 😂😂😂', ' Good one 😂😂', ' <Media omitted>', ' <Media omitted>', ' @919524431744  bhai kahi bhi matlab 🐒', ' Only way to enter girls hostel🙈']\n"
     ]
    }
   ],
   "source": [
    "print (new_sents[:100])"
   ]
  },
  {
   "cell_type": "code",
   "execution_count": 88,
   "metadata": {
    "collapsed": true
   },
   "outputs": [],
   "source": [
    "latest_sents = []\n",
    "for sent in new_sents:\n",
    "    if 'Media' not in sent and '//' not in sent and (len(sent.strip())>1) and '.vcf' not in sent:\n",
    "        match = re.search(r'@[0-9A-Za-z]+\\W+(.*)', sent)\n",
    "        if match:\n",
    "            refined = match.group(1)\n",
    "            latest_sents.append(refined)\n",
    "        else:\n",
    "            latest_sents.append(sent.strip())"
   ]
  },
  {
   "cell_type": "code",
   "execution_count": 89,
   "metadata": {},
   "outputs": [
    {
     "name": "stdout",
     "output_type": "stream",
     "text": [
      "['Anyone going to vellore tomorrow from chennai airport? Anytime?', 'Tomorrow??😱😱', 'Haan 😅😅', \"I'll meet you in vellore ✌🏿\", \"I'm coming from Bangalore\", 'Oh damn.', 'Anyone travelling on 5th around 5pm from Chennai airport.?', 'Thendral or rishin?', 'Both are equally strict.', 'Not thendral', \"Don't take thendral\", 'what do you say? You got an s in thendral?', 'hows lydia?', 'Apparently chill', 'How is electrical and electronics measurements?', '??', 'And can we take CAL equivalent for UE??', '??', 'Anyone got btech Cse hod number??', \"It's not very tough\", 'Thanks', 'is karthikeyan t very bad?', 'Thank you', 'Gave*', 'IWP', 'Lydia jane or Arunkumar G?', 'Any idea of Mini Project for CSE?', \"Cse people don't need mini project\", \"It's given in SCOPE school list. Should I drop? 😅\", \"Concurrent and distributed systems is CSE's program elective rite??\", 'Mini project for CSE was still 2012 batch', '*till', 'Yes', 'N how is naresh Kumar?', 'can cs student take IT subject for UE ?', 'Yep, I took one last sem.', 'Yes u can', 'Just make sure its not an anti requisite for any subjects you guys might already have', 'Meetup today?', 'Ignore😂🙈', 'Okay 👌🏻', 'how is Manju B R ?', 'For Linear?', 'Yes', 'Ravi Shankar speaks highly about this faculty.', \"Sureshkumar N vs Anisha M Lal. Who's better?\", 'Sureshkumar', 'Sureshkumar. Image and vision?', 'Yes', 'Can we take lab only subjects from SITE as UE??', 'Is it 2 credit ??', 'Yes', \"As far as I know u can't\", 'Okk thanks', 'Concurrent and distributed systems has 7 open seats in a2 slot', \"How's Naveen Kumar N?\", 'No idea but leliya', 'No other option 😅', 'How is this possible that one seat is present in theory but all lab seats are full', 'Someone from the morning slot may have taken a morning lab', 'Even though, there are 60 seats for lab and theory each', 'Someone took a waitlist?', 'Confused 🤔', \"Somebody who's failed in one of the components before can register that component alone. It's written in the rules in the first page.\", 'Anyone landing around 12 tomorrow. Chennai airport?', 'Anyone landing around 8 pm today at chennai?', 'Is GER1001, basic German UE and we need to take something else under Foreign Language as UC?', 'Any PDF or link regarding difference between virtual and physical machines?', 'GER1001 is supposed to be UC, but for some reason it is shown as UE in my curriculum after I finished it', '👍🏻', 'Anybody took ethics in TE2 under sriram and know if he took attendance last class??', '😃 congratulation', 'Congrats bro!!', 'Congrats bro', 'Congratulations..!!🎉🎊', 'Congratulations', 'Wow nice.. congrats bro', 'Congrats bro.', 'Congrats man!', 'congrats', '👍🏻👍🏻👍🏻', '👌🏻👍🏻', '😂😂', '😂😂', '😂😂😂', '😂😂', '😂😂😂', 'Good one 😂😂', 'bhai kahi bhi matlab 🐒', 'Only way to enter girls hostel🙈', 'Prince how are you?', '😂😂😂😂', 'Girls hostel me bhi koode me ja😂', 'Strategy bro', 'Prince, Chinki log Gaye yaar. 😂😂', 'Strategy really? Dustbin🙈', 'Shiv was also with me. See in the pic. Ask him', \"Well he won't need to enter like that\", \"Shiv's got swag and he is nowhere near to litter\", 'Hahahaha', 'Thanks for the save', 'Haha😬', 'Shiv got other things to focus on after performing such a daring act. 🙊', 'hey guys', 'Anyone travelling from chennai to vellore tomorrow?', 'Midnight?', 'If anybody is looking for web  developer positions in a startup ping me', 'Anyone knew how to do SQL injection?', \"You'll go in the past and screw them?\", 'to*', '😂😂😂', 'Yeah dude people used that in stone age.', 'Yup I know.. and want it for a purpose', 'Does anybody have manoranjan sir email id?', 'The guy from google', \"LinkedIn's got a new look\", '🏳0🌈', 'New meassage bug(ios 10)', '*message', 'We have 180+ registrations in technical and 157 in management till now!!', 'Awesome', '👍🏼', 'How many for designs?or is it a direct interview?', 'Please take him in 😂😂', \"I'll take his interview\", '😂😂', 'Can I have tickets for this?', 'Live Stream it', '😄 on it.', '😂😂😂', '😂😂😂', 'Btw how many girls for management 🙈', 'Bro please', 'Technical first', '😂😂', 'Sunny seriously?😂😂😂', '😂😂😂😂😂', 'lol', \"Haha we'll see 😂\", 'Just a joke 🙊', \"dey dey don't act😂😂\", 'Donald Trump reminded you of that? 😂😂😂', '😂😂', 'Guys, does anyone know how to copy paste in skillrack?', \"Don't fuck with paste\", 'A chrome extension', 'can anyone find out if we have used this?', 'Mozilla Mei u can open and then change the configuration', 'In chrome,You can try disabling Javascript on that page and then copy paste should work.', 'which config? clipboard.events? that is not working']\n"
     ]
    }
   ],
   "source": [
    "print (latest_sents[:150])"
   ]
  },
  {
   "cell_type": "code",
   "execution_count": 90,
   "metadata": {},
   "outputs": [
    {
     "name": "stdout",
     "output_type": "stream",
     "text": [
      "4292\n"
     ]
    }
   ],
   "source": [
    "print(len(latest_sents))"
   ]
  },
  {
   "cell_type": "code",
   "execution_count": 91,
   "metadata": {},
   "outputs": [
    {
     "name": "stdout",
     "output_type": "stream",
     "text": [
      "25.5018639329\n"
     ]
    }
   ],
   "source": [
    "# need to remove really big sentences\n",
    "# biggest length - 270\n",
    "import numpy as np\n",
    "mean = np.mean([len(sent) for sent in latest_sents])\n",
    "print (mean)"
   ]
  },
  {
   "cell_type": "code",
   "execution_count": 92,
   "metadata": {},
   "outputs": [
    {
     "name": "stdout",
     "output_type": "stream",
     "text": [
      "362\n"
     ]
    }
   ],
   "source": [
    "# number of items having len greater than 60\n",
    "# we can use IQR here also \n",
    "print (len([len(sent) for sent in latest_sents if len(sent)>=60]))"
   ]
  },
  {
   "cell_type": "code",
   "execution_count": null,
   "metadata": {
    "collapsed": true
   },
   "outputs": [],
   "source": []
  }
 ],
 "metadata": {
  "kernelspec": {
   "display_name": "Python 3",
   "language": "python",
   "name": "python3"
  },
  "language_info": {
   "codemirror_mode": {
    "name": "ipython",
    "version": 3
   },
   "file_extension": ".py",
   "mimetype": "text/x-python",
   "name": "python",
   "nbconvert_exporter": "python",
   "pygments_lexer": "ipython3",
   "version": "3.5.2"
  }
 },
 "nbformat": 4,
 "nbformat_minor": 2
}
